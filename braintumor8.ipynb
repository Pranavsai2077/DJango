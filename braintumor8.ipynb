{
  "nbformat": 4,
  "nbformat_minor": 0,
  "metadata": {
    "colab": {
      "provenance": [],
      "authorship_tag": "ABX9TyOW8p1mGrOtU036vNlOX8gh",
      "include_colab_link": true
    },
    "kernelspec": {
      "name": "python3",
      "display_name": "Python 3"
    },
    "language_info": {
      "name": "python"
    }
  },
  "cells": [
    {
      "cell_type": "markdown",
      "metadata": {
        "id": "view-in-github",
        "colab_type": "text"
      },
      "source": [
        "<a href=\"https://colab.research.google.com/github/Pranavsai2077/DJango/blob/main/braintumor8.ipynb\" target=\"_parent\"><img src=\"https://colab.research.google.com/assets/colab-badge.svg\" alt=\"Open In Colab\"/></a>"
      ]
    },
    {
      "cell_type": "code",
      "execution_count": 1,
      "metadata": {
        "id": "lI492VigRFgD"
      },
      "outputs": [],
      "source": [
        "import tensorflow as tf"
      ]
    },
    {
      "cell_type": "code",
      "source": [
        "from tensorflow.keras.optimizers import Adamax"
      ],
      "metadata": {
        "id": "602iHEcwRyiK"
      },
      "execution_count": 2,
      "outputs": []
    },
    {
      "cell_type": "code",
      "source": [
        "CNN = tf.keras.models.load_model(\"CNN.h5\", compile = False)\n",
        "CNN.compile(Adamax(learning_rate = 0.001), loss = 'categorical_crossentropy', metrics = 'accuracy')"
      ],
      "metadata": {
        "id": "JavArInrRz-l"
      },
      "execution_count": 5,
      "outputs": []
    },
    {
      "cell_type": "code",
      "source": [
        "import numpy as np\n",
        "import tensorflow as tf\n",
        "from tensorflow.keras.preprocessing.image import img_to_array\n",
        "from PIL import Image\n",
        "\n",
        "# Image path\n",
        "path = 'sample_data/Te-me_0012.jpg'\n",
        "\n",
        "# Open the image using the 'Image.open()` function from PIL\n",
        "img = Image.open(path)\n",
        "\n",
        "# Preprocess the image\n",
        "img1 = img.resize((224, 224))\n",
        "\n",
        "# Convert the image to a NumPy array\n",
        "iArray = img_to_array(img1)\n",
        "\n",
        "# Expand the dimensions of the array\n",
        "iArray = tf.expand_dims(iArray, 0)\n",
        "\n",
        "# Make predictions using the CNN model\n",
        "p = CNN.predict(iArray)\n",
        "\n",
        "# Get the probability scores for each class\n",
        "score = tf.nn.softmax(p[0])\n",
        "\n",
        "# Print the predictions and their corresponding scores\n",
        "print('\\nPredictions of given image:  \\n\\n', score)\n",
        "\n",
        "# Get the class with the maximum probability\n",
        "cl_labels = ['glioma', 'meningioma', 'notumor', 'pituitary']\n",
        "predicted_class = cl_labels[np.argmax(p)]\n",
        "\n",
        "# Print the predicted class\n",
        "print(f'-------------------------\\nClass whose max ratio: \\n\\n{predicted_class}')\n"
      ],
      "metadata": {
        "id": "Ysr6f5B7R1s2",
        "colab": {
          "base_uri": "https://localhost:8080/"
        },
        "outputId": "e59d3abd-af76-473a-d1fe-1168ff33254f"
      },
      "execution_count": 8,
      "outputs": [
        {
          "output_type": "stream",
          "name": "stdout",
          "text": [
            "1/1 [==============================] - 1s 1s/step\n",
            "\n",
            "Predictions of given image:  \n",
            "\n",
            " tf.Tensor([0.17487808 0.47536454 0.17487808 0.1748793 ], shape=(4,), dtype=float32)\n",
            "-------------------------\n",
            "Class whose max ratio: \n",
            "\n",
            "meningioma\n"
          ]
        }
      ]
    },
    {
      "cell_type": "code",
      "source": [],
      "metadata": {
        "id": "E8vREBHxiujz"
      },
      "execution_count": null,
      "outputs": []
    }
  ]
}